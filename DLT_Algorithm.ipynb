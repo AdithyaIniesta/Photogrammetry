{
 "cells": [
  {
   "cell_type": "code",
   "execution_count": 19,
   "metadata": {},
   "outputs": [],
   "source": [
    "import cv2\n",
    "import numpy as np\n",
    "from matplotlib import pyplot as plt"
   ]
  },
  {
   "cell_type": "code",
   "execution_count": 17,
   "metadata": {},
   "outputs": [],
   "source": [
    "\n",
    "class normalizedDLT:\n",
    "    \n",
    "    def __init__(self):\n",
    "        pass\n",
    "    \n",
    "    def similarityTransform(self, X):\n",
    "        \n",
    "        x = X[:,0]\n",
    "        y = X[:,1]\n",
    "        x_mean = np.mean(x)\n",
    "        y_mean = np.mean(y)\n",
    "        num = np.sqrt(2)\n",
    "        den = 0\n",
    "        count = len(X)\n",
    "        \n",
    "        for i,j in zip(x,y):\n",
    "            den = den + np.sqrt((i-x_mean)**2) + np.sqrt((j-y_mean)**2)\n",
    "        \n",
    "        den = den / count\n",
    "        s = num / den\n",
    "        tx = -s * x_mean\n",
    "        ty = -s * y_mean\n",
    "        \n",
    "        T = np.array([[s, 0, tx ], \n",
    "                     [0, s, ty ], \n",
    "                     [0, 0, 1]])\n",
    "        return T\n",
    "    \n",
    "    def normalize(self, X, T):\n",
    "        \n",
    "        normalized_image = []\n",
    "        for [i,j] in X:\n",
    "            normalized_image.append(T.dot(np.array([i,j,1])))\n",
    "        \n",
    "        normalized_image = np.array(normalized_image)\n",
    "        return normalized_image\n",
    "            \n",
    "    def computeA(self, X1, X2):\n",
    "        \n",
    "        A = []\n",
    "        for i , j in zip(X1, X2):\n",
    "            x1, y1 = i[0], i[1]\n",
    "            x2, y2 = j[0], j[1]\n",
    "            A.append([0 ,0 ,0 , -x1, -y1, -1, y2 * x1, y2 * y1, y2])\n",
    "            A.append([x1 ,y1 ,1 , 0, 0, 0, -x2 * x1, -x2 * y1, -x2])\n",
    "        \n",
    "        A = np.array(A)\n",
    "        return A\n",
    "\n",
    "    \n",
    "    def findHomography(self, X1, X2):\n",
    "        \n",
    "        assert(X1.shape == X2.shape)\n",
    "            \n",
    "        T1 = self.similarityTransform(X1)\n",
    "        T2 = self.similarityTransform(X2)\n",
    "        \n",
    "        X1 = self.normalize(X1, T1)\n",
    "        X2 = self.normalize(X2, T2)\n",
    "        A = self.computeA(X1, X2)\n",
    "        \n",
    "        u, s, vh = np.linalg.svd(A)\n",
    "        v_12 = vh[-1]\n",
    "        H = v_12.reshape((3,3))\n",
    "        T2_inv = np.linalg.inv(T2)\n",
    "        H = T2_inv.dot(H.dot(T1))\n",
    "        h_33 = H[2,2]\n",
    "        H = H / h_33\n",
    "        return H\n",
    "    "
   ]
  },
  {
   "cell_type": "code",
   "execution_count": 18,
   "metadata": {},
   "outputs": [
    {
     "data": {
      "text/plain": [
       "True"
      ]
     },
     "execution_count": 18,
     "metadata": {},
     "output_type": "execute_result"
    }
   ],
   "source": [
    "\n",
    "img1 = np.array([[202, 459], [202, 473], [500, 403], [523, 403], [530, 405], [522, 434], [529, 433], [552, 305], [633, 188], [630, 220], [372, 219], [376, 261], [396, 262], [415, 292], [429, 284], [427, 315], [446, 285], [445, 315], [492, 235], [486, 285], [505, 287], [260, 279], [271, 280], [718, 280], [732, 279]])\n",
    "img2 = np.array([[283, 482], [285, 494], [526, 371], [544, 367], [552, 365], [550, 392], [557, 389], [550, 276], [594, 158], [598, 186], [376, 240], [388, 275], [406, 272], [428, 293], [439, 284], [445, 310], [454, 281], [460, 307], [482, 228], [488, 272], [506, 269], [293, 316], [302, 314], [686, 217], [697, 215]])\n",
    "\n",
    "image1 = cv2.imread(\"boat/img1+points.png\", cv2.IMREAD_UNCHANGED)\n",
    "image2 = cv2.imread(\"boat/img2+points.png\", cv2.IMREAD_UNCHANGED)\n",
    "\n",
    "ndlt = normalizedDLT()\n",
    "H = ndlt.findHomography(img1,img2)\n",
    "h = cv2.findHomography(img1, img2)[0]\n",
    "\n",
    "im_out1 = cv2.warpPerspective(image1, H, (image2.shape[1],image2.shape[0]))\n",
    "im_out2 = cv2.warpPerspective(image1, h, (image2.shape[1],image2.shape[0]))\n",
    "\n",
    "cv2.imwrite(\"handcraftedDLT.jpg\",im_out1)\n",
    "cv2.imwrite(\"OpenCV.jpg\",im_out1)"
   ]
  },
  {
   "cell_type": "code",
   "execution_count": null,
   "metadata": {},
   "outputs": [],
   "source": []
  },
  {
   "cell_type": "code",
   "execution_count": null,
   "metadata": {},
   "outputs": [],
   "source": []
  }
 ],
 "metadata": {
  "kernelspec": {
   "display_name": "Python 3",
   "language": "python",
   "name": "python3"
  },
  "language_info": {
   "codemirror_mode": {
    "name": "ipython",
    "version": 2
   },
   "file_extension": ".py",
   "mimetype": "text/x-python",
   "name": "python",
   "nbconvert_exporter": "python",
   "pygments_lexer": "ipython2",
   "version": "2.7.12"
  }
 },
 "nbformat": 4,
 "nbformat_minor": 2
}
