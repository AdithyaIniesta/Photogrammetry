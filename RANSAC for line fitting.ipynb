{
 "cells": [
  {
   "cell_type": "code",
   "execution_count": 15,
   "metadata": {},
   "outputs": [],
   "source": [
    "import numpy as np\n",
    "import matplotlib.pyplot as plt\n",
    "import math\n",
    "np.random.seed(seed=1)"
   ]
  },
  {
   "cell_type": "code",
   "execution_count": 5,
   "metadata": {},
   "outputs": [
    {
     "data": {
      "text/plain": [
       "<matplotlib.collections.PathCollection at 0x7f800ca30518>"
      ]
     },
     "execution_count": 5,
     "metadata": {},
     "output_type": "execute_result"
    },
    {
     "data": {
      "image/png": "[encoded data removed]",
      "text/plain": [
       "<Figure size 432x288 with 1 Axes>"
      ]
     },
     "metadata": {
      "needs_background": "light"
     },
     "output_type": "display_data"
    }
   ],
   "source": [
    "m = 0.35\n",
    "c = 2\n",
    "x = np.arange(0,200)\n",
    "y = m * x + c\n",
    "data = np.column_stack((x,y))\n",
    "\n",
    "# add guassian noise\n",
    "noise = np.random.normal(size=data.shape)\n",
    "data += 0.5 * noise\n",
    "data[::2] += 5 * noise[::2]\n",
    "data[::4] += 20 * noise[::4]\n",
    "plt.scatter(data[:,0],data[:,1],marker = \"o\",c=\"blue\")"
   ]
  },
  {
   "cell_type": "code",
   "execution_count": 16,
   "metadata": {},
   "outputs": [
    {
     "name": "stdout",
     "output_type": "stream",
     "text": [
      "169 0.34541809441483196 1.9802061209318182\n",
      "171 0.35374344468490015 1.7538321574131075\n",
      "172 0.3523491758510703 1.98845133837969\n",
      "final parameters 0.3523491758510703 1.98845133837969\n"
     ]
    },
    {
     "data": {
      "text/plain": [
       "(0.3523491758510703, 1.98845133837969)"
      ]
     },
     "execution_count": 16,
     "metadata": {},
     "output_type": "execute_result"
    },
    {
     "data": {
      "image/png": "[encoded data removed]",
      "text/plain": [
       "<Figure size 432x288 with 1 Axes>"
      ]
     },
     "metadata": {
      "needs_background": "light"
     },
     "output_type": "display_data"
    }
   ],
   "source": [
    "def linear_regression(data):\n",
    "    X_mean = np.mean(data[:,0])\n",
    "    Y_mean = np.mean(data[:,1])\n",
    "    m,c = 0.0,0.0\n",
    "    num,den = 0,0\n",
    "    for point in data:\n",
    "        num = num + (point[0]-X_mean)*(point[1]-Y_mean)\n",
    "        den = den + (point[0]-X_mean)**2\n",
    "    m = num / den\n",
    "    c = Y_mean - m* X_mean\n",
    "    return m,c\n",
    "    \n",
    "def shortest_distance(point,A,B,C):\n",
    "    # returns perpendicular distance of a point from a straint line\n",
    "    return (A*point[0] + B*point[1] + C) / (A**2 + B**2)\n",
    "    \n",
    "# Pseudo code reference: https://en.wikipedia.org/wiki/Random_sample_consensus    \n",
    "def ransac(data,s,N):\n",
    "\n",
    "    n, support, m_best, c_best = 0,0,0,0\n",
    "    number_of_points = len(data)\n",
    "    d = 3.84 * s**2\n",
    "    p = 0.99\n",
    "    while n < N:\n",
    "        also_inliers = list()\n",
    "        index = np.random.randint(number_of_points,size=2)\n",
    "        inliers = data[index,:]\n",
    "        m,c = linear_regression(inliers)\n",
    "        for point in data:\n",
    "            if point not in inliers:\n",
    "                dist = shortest_distance(point,m,-1,c)\n",
    "                if abs(dist) < d:\n",
    "                    also_inliers.append(point)\n",
    "        \n",
    "        also_inliers = np.array(also_inliers)\n",
    "        also_inliers = np.vstack((also_inliers,inliers))\n",
    "        inliers_len = len(also_inliers)\n",
    "        if(inliers_len > support):\n",
    "            support = inliers_len\n",
    "            m_best,c_best = linear_regression(np.array(also_inliers))\n",
    "            print(support,m_best,c_best)\n",
    "        \n",
    "        e = 1 - (support)/len(data)\n",
    "        den = math.log10(1-pow(1-e,s))\n",
    "        num = math.log10(1-p)\n",
    "        if(den):\n",
    "            N = num / den\n",
    "        n = n + 1\n",
    "    print(\"final parameters\",m_best,c_best)\n",
    "    Y = m_best * data[:,0] + c_best\n",
    "    plt.plot( data[:,0], Y,c=\"red\")\n",
    "    plt.scatter(data[:,0],data[:,1],marker = \"o\",c=\"blue\")\n",
    "    return m_best, c_best\n",
    "\n",
    "\n",
    "ransac(data,2,50)"
   ]
  },
  {
   "cell_type": "code",
   "execution_count": null,
   "metadata": {},
   "outputs": [],
   "source": []
  }
 ],
 "metadata": {
  "kernelspec": {
   "display_name": "Python 3",
   "language": "python",
   "name": "python3"
  },
  "language_info": {
   "codemirror_mode": {
    "name": "ipython",
    "version": 3
   },
   "file_extension": ".py",
   "mimetype": "text/x-python",
   "name": "python",
   "nbconvert_exporter": "python",
   "pygments_lexer": "ipython3",
   "version": "3.5.2"
  }
 },
 "nbformat": 4,
 "nbformat_minor": 2
}
